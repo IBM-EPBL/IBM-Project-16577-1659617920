{
  "nbformat": 4,
  "nbformat_minor": 0,
  "metadata": {
    "colab": {
      "provenance": []
    },
    "kernelspec": {
      "name": "python3",
      "display_name": "Python 3"
    },
    "language_info": {
      "name": "python"
    }
  },
  "cells": [
    {
      "cell_type": "markdown",
      "source": [],
      "metadata": {
        "id": "FXYFgr1cJGof"
      }
    },
    {
      "cell_type": "markdown",
      "source": [
        "*Exercises* Answer the questions or complete the tasks outlined in bold below, use the specific method described if applicable.\n",
        "\n",
        "*What is 7 to the power of 4?*"
      ],
      "metadata": {
        "id": "DONfQziUJJOZ"
      }
    },
    {
      "cell_type": "code",
      "source": [
        "print(7*7*7*7)"
      ],
      "metadata": {
        "colab": {
          "base_uri": "https://localhost:8080/"
        },
        "id": "DZK8IOgeJLTF",
        "outputId": "bcd3af13-0292-4454-a170-7d4cf596159f"
      },
      "execution_count": 2,
      "outputs": [
        {
          "output_type": "stream",
          "name": "stdout",
          "text": [
            "2401\n"
          ]
        }
      ]
    },
    {
      "cell_type": "markdown",
      "source": [
        "*Split this string:*\n",
        "\n",
        "s = \"Hi there Sam!\"\n",
        "\n",
        "*into a list.*"
      ],
      "metadata": {
        "id": "VyZH4OXFJ6Wx"
      }
    },
    {
      "cell_type": "code",
      "execution_count": 4,
      "metadata": {
        "colab": {
          "base_uri": "https://localhost:8080/"
        },
        "id": "8HQM7u2IIdqO",
        "outputId": "f1f5d88b-c4bb-4ed7-eab9-a04047724663"
      },
      "outputs": [
        {
          "output_type": "execute_result",
          "data": {
            "text/plain": [
              "['Hi', 'there', 'Guru', 'Prasath!']"
            ]
          },
          "metadata": {},
          "execution_count": 4
        }
      ],
      "source": [
        "s = \"Hi there Guru Prasath!\"\n",
        "s.split()\n"
      ]
    },
    {
      "cell_type": "markdown",
      "source": [
        "*Given the variables:*\n",
        "\n",
        "planet = \"Earth\" diameter = 12742\n",
        "\n",
        "*Use .format() to print the following string:*\n",
        "\n",
        "The diameter of Earth is 12742 kilometers."
      ],
      "metadata": {
        "id": "lfWzvW0WKEsg"
      }
    },
    {
      "cell_type": "code",
      "source": [
        "planet = \"Earth\"\n",
        "diameter=\"The diameter of {} is 12742 kilometers\".format(planet)\n",
        "print(diameter)"
      ],
      "metadata": {
        "colab": {
          "base_uri": "https://localhost:8080/"
        },
        "id": "AMJVeiq5KGjP",
        "outputId": "c6180610-1861-4b41-b594-b02c9a5ec7fc"
      },
      "execution_count": 5,
      "outputs": [
        {
          "output_type": "stream",
          "name": "stdout",
          "text": [
            "The diameter of Earth is 12742 kilometers\n"
          ]
        }
      ]
    },
    {
      "cell_type": "markdown",
      "source": [
        "*Given this nested list, use indexing to grab the word \"hello\"*"
      ],
      "metadata": {
        "id": "bS4D3yX9KNx9"
      }
    },
    {
      "cell_type": "code",
      "source": [
        "lst = [1,2,[3,4],[5,[100,200,['hello']],23,11],1,7]\n",
        "lst[3][1][2]"
      ],
      "metadata": {
        "colab": {
          "base_uri": "https://localhost:8080/"
        },
        "id": "18z4fN3HKLAq",
        "outputId": "9673ddef-19b9-4f43-d999-d5c19f08c559"
      },
      "execution_count": 6,
      "outputs": [
        {
          "output_type": "execute_result",
          "data": {
            "text/plain": [
              "['hello']"
            ]
          },
          "metadata": {},
          "execution_count": 6
        }
      ]
    },
    {
      "cell_type": "markdown",
      "source": [
        "*Given this nest dictionary grab the word \"hello\". Be prepared, this will be annoying/tricky*"
      ],
      "metadata": {
        "id": "lFmsKR-tKXG2"
      }
    },
    {
      "cell_type": "code",
      "source": [
        "d = {'k1':[1,2,3,{'tricky':['oh','man','inception',{'target':[1,2,3,'hello']}]}]}\n",
        "d[\"k1\"][3][\"tricky\"][3][\"target\"][3]"
      ],
      "metadata": {
        "colab": {
          "base_uri": "https://localhost:8080/",
          "height": 36
        },
        "id": "n8A_Z33xKTiQ",
        "outputId": "e183762c-8c4b-43a5-d4e9-c02ba40b64e8"
      },
      "execution_count": 7,
      "outputs": [
        {
          "output_type": "execute_result",
          "data": {
            "text/plain": [
              "'hello'"
            ],
            "application/vnd.google.colaboratory.intrinsic+json": {
              "type": "string"
            }
          },
          "metadata": {},
          "execution_count": 7
        }
      ]
    },
    {
      "cell_type": "markdown",
      "source": [
        "*What is the main difference between a tuple and a list?*"
      ],
      "metadata": {
        "id": "eXxOearAKdeZ"
      }
    },
    {
      "cell_type": "code",
      "source": [
        "#The list is dynamic, whereas the tuple has static characteristics. This means that lists can be modified whereas tuples cannot be modified, the tuple is faster than the list because of static in nature.\n",
        "#Lists are denoted by the square brackets but tuples are denoted as parenthesis."
      ],
      "metadata": {
        "id": "ny7wYPTRKjve"
      },
      "execution_count": null,
      "outputs": []
    },
    {
      "cell_type": "markdown",
      "source": [
        "*Create a function that grabs the email website domain from a string in the form:*\n",
        "\n",
        "user@domain.com\n",
        "\n",
        "*So for example, passing \"user@domain.com\" would return: domain.com*"
      ],
      "metadata": {
        "id": "AkDGiKtaKniW"
      }
    },
    {
      "cell_type": "code",
      "source": [
        "def domainGet(email):\n",
        "    print(\"Your domain is: \" + email.split('@')[-1])\n",
        "\n",
        "email = input(\"Please enter your email: >\")\n",
        "domainGet(email)"
      ],
      "metadata": {
        "colab": {
          "base_uri": "https://localhost:8080/"
        },
        "id": "HkX0wyenKlMz",
        "outputId": "b2bb80c1-34eb-4379-c13c-d561f77df0ca"
      },
      "execution_count": 1,
      "outputs": [
        {
          "output_type": "stream",
          "name": "stdout",
          "text": [
            "Please enter your email: >gurukj06@gmail.com\n",
            "Your domain is: gmail.com\n"
          ]
        }
      ]
    },
    {
      "cell_type": "markdown",
      "source": [
        "*Create a basic function that returns True if the word 'dog' is contained in the input string. Don't worry about edge cases like a punctuation being attached to the word dog, but do account for capitalization.*"
      ],
      "metadata": {
        "id": "3tjUnKXSK5aM"
      }
    },
    {
      "cell_type": "code",
      "source": [
        "def findDog(st):\n",
        "    if 'dog' in st.lower():\n",
        "        print(\"True\")\n",
        "    else:\n",
        "        print(\"False\")\n",
        "st = \"I take a walk with my dog\"\n",
        "findDog(st)"
      ],
      "metadata": {
        "colab": {
          "base_uri": "https://localhost:8080/"
        },
        "id": "JeC-DHkvK3xX",
        "outputId": "a15e5738-9627-493f-f552-aa049e25a802"
      },
      "execution_count": 2,
      "outputs": [
        {
          "output_type": "stream",
          "name": "stdout",
          "text": [
            "True\n"
          ]
        }
      ]
    },
    {
      "cell_type": "markdown",
      "source": [
        "*Create a function that counts the number of times the word \"dog\" occurs in a string. Again ignore edge cases.*"
      ],
      "metadata": {
        "id": "QXbdO2KqNjbC"
      }
    },
    {
      "cell_type": "code",
      "source": [
        "value = \"My neighbor's dog won't eat dry dog food\";\n",
        "def countdogs(value):\n",
        "    count = 0\n",
        "    for word in value.lower().split():\n",
        "        if word == 'dog' or word == 'dogs':\n",
        "            count = count + 1\n",
        "            print(count)\n",
        "\n",
        "countdogs(value)"
      ],
      "metadata": {
        "colab": {
          "base_uri": "https://localhost:8080/"
        },
        "id": "SiS5sOJENlHl",
        "outputId": "1744ac42-60ab-406e-a23d-e1657870982d"
      },
      "execution_count": 3,
      "outputs": [
        {
          "output_type": "stream",
          "name": "stdout",
          "text": [
            "1\n",
            "2\n"
          ]
        }
      ]
    },
    {
      "cell_type": "markdown",
      "source": [
        "Problem You are driving a little too fast, and a police officer stops you. Write a function to return one of 3 possible results: \"No ticket\", \"Small ticket\", or \"Big Ticket\". If your speed is 60 or less, the result is \"No Ticket\". If speed is between 61 and 80 inclusive, the result is \"Small Ticket\". If speed is 81 or more, the result is \"Big Ticket\". Unless it is your birthday (encoded as a boolean value in the parameters of the function) -- on your birthday, your speed can be 5 higher in all cases."
      ],
      "metadata": {
        "id": "chsx79qhNtch"
      }
    },
    {
      "cell_type": "code",
      "source": [
        "def caught_speeding(speed, is_birthday):\n",
        "    \n",
        "    if is_birthday:\n",
        "        speeding = speed - 5\n",
        "    else:\n",
        "        speeding = speed\n",
        "    \n",
        "    if speeding > 80:\n",
        "        return 'Big Ticket'\n",
        "    elif speeding > 60:\n",
        "        return 'Small Ticket'\n",
        "    else:\n",
        "        return 'No Ticket'\n",
        "caught_speeding(91,False)"
      ],
      "metadata": {
        "colab": {
          "base_uri": "https://localhost:8080/",
          "height": 36
        },
        "id": "w9KPz8OSNwmU",
        "outputId": "627719e8-cd09-47c5-e3de-10dc67950939"
      },
      "execution_count": 4,
      "outputs": [
        {
          "output_type": "execute_result",
          "data": {
            "text/plain": [
              "'Big Ticket'"
            ],
            "application/vnd.google.colaboratory.intrinsic+json": {
              "type": "string"
            }
          },
          "metadata": {},
          "execution_count": 4
        }
      ]
    },
    {
      "cell_type": "code",
      "source": [
        "speed=\"Your speed is more than 81\"\n",
        "caught_speeding(81,True)"
      ],
      "metadata": {
        "colab": {
          "base_uri": "https://localhost:8080/",
          "height": 36
        },
        "id": "8Z-c-oRgN3pi",
        "outputId": "430e5b4b-4282-48eb-f2e4-2e208e2ef24f"
      },
      "execution_count": 5,
      "outputs": [
        {
          "output_type": "execute_result",
          "data": {
            "text/plain": [
              "'Small Ticket'"
            ],
            "application/vnd.google.colaboratory.intrinsic+json": {
              "type": "string"
            }
          },
          "metadata": {},
          "execution_count": 5
        }
      ]
    },
    {
      "cell_type": "markdown",
      "source": [
        "*Create an employee list with basic salary values(at least 5 values for 5 employees) and using a for loop retreive each employee salary and calculate total salary expenditure.*"
      ],
      "metadata": {
        "id": "NnmUaYUcOBg9"
      }
    },
    {
      "cell_type": "code",
      "source": [
        "employee_names = [\"Guru\", \"Dharneesh\", \"Abishake\", \"Akash\", \"kidee\"]\n",
        "employee_salaries = {}\n",
        "for employee in employee_names:\n",
        "    while True: # Input validation loop\n",
        "        try:\n",
        "            employee_salaries[employee] = int(input(f\"Enter {employee}'s salary: \")) \n",
        "            break\n",
        "        except ValueError:\n",
        "            print(\"Invalid input\")\n",
        "    print(employee_salaries)\n",
        "    total = sum(employee_salaries.values())\n",
        "    print(total)"
      ],
      "metadata": {
        "colab": {
          "base_uri": "https://localhost:8080/"
        },
        "id": "5WUJITCMOE8c",
        "outputId": "571419be-7b66-4eae-c67b-1e56feddd8fc"
      },
      "execution_count": 9,
      "outputs": [
        {
          "output_type": "stream",
          "name": "stdout",
          "text": [
            "Enter Guru's salary: 30000\n",
            "{'Guru': 30000}\n",
            "30000\n",
            "Enter Dharneesh's salary: 30000\n",
            "{'Guru': 30000, 'Dharneesh': 30000}\n",
            "60000\n",
            "Enter Abishake's salary: 20000\n",
            "{'Guru': 30000, 'Dharneesh': 30000, 'Abishake': 20000}\n",
            "80000\n",
            "Enter Akash's salary: 20000\n",
            "{'Guru': 30000, 'Dharneesh': 30000, 'Abishake': 20000, 'Akash': 20000}\n",
            "100000\n",
            "Enter kidee's salary: 10000\n",
            "{'Guru': 30000, 'Dharneesh': 30000, 'Abishake': 20000, 'Akash': 20000, 'kidee': 10000}\n",
            "110000\n"
          ]
        }
      ]
    },
    {
      "cell_type": "markdown",
      "source": [
        "Create two dictionaries in Python:\n",
        "\n",
        "First one to contain fields as Empid, Empname, Basicpay\n",
        "\n",
        "Second dictionary to contain fields as DeptName, DeptId.\n",
        "\n",
        "Combine both dictionaries."
      ],
      "metadata": {
        "id": "3WsMZis1Oqwd"
      }
    },
    {
      "cell_type": "code",
      "source": [
        "d1={\"Empid\":101,\n",
        "    \"Empname\":'Afreen', \n",
        "    \"Basicpay\":5000}\n",
        "d2={\"DeptName\":'IT',  \n",
        "    \"DeptId\":105}\n",
        "print({**d1, **d2})"
      ],
      "metadata": {
        "colab": {
          "base_uri": "https://localhost:8080/"
        },
        "id": "yepbbRIsOuUb",
        "outputId": "928f4f85-ee5e-4a99-cfd1-5b894f986fa2"
      },
      "execution_count": 10,
      "outputs": [
        {
          "output_type": "stream",
          "name": "stdout",
          "text": [
            "{'Empid': 101, 'Empname': 'Afreen', 'Basicpay': 5000, 'DeptName': 'IT', 'DeptId': 105}\n"
          ]
        }
      ]
    }
  ]
}